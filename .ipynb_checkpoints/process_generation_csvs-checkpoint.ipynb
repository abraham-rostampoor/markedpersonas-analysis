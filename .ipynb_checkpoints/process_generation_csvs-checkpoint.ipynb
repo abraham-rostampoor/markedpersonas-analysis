{
 "cells": [
  {
   "cell_type": "code",
   "execution_count": 2,
   "id": "cordless-given",
   "metadata": {},
   "outputs": [],
   "source": [
    "import pandas as pd"
   ]
  },
  {
   "cell_type": "code",
   "execution_count": 17,
   "id": "baking-bahrain",
   "metadata": {},
   "outputs": [],
   "source": [
    "df=pd.read_csv('data/raw_data/dv3_generations.csv')\n",
    "df['race']=df['race'].replace('a Latina', 'a Latine')\n",
    "df['race']=df['race'].replace('a Latino', 'a Latine')\n",
    "df['gender']=df['gender'].replace('F', 'W')\n",
    "\n",
    "\n",
    "df = df.loc[~df['prompt'].str.contains('story')]\n",
    "df = df.loc[~df['prompt'].str.contains('you like')]\n",
    "df = df.loc[~df['prompt'].str.contains('you dislike')]\n",
    "\n",
    "df.to_csv('data/dv3_main_generations.csv')\n"
   ]
  },
  {
   "cell_type": "code",
   "execution_count": 41,
   "id": "painful-stream",
   "metadata": {},
   "outputs": [],
   "source": [
    "df=pd.read_csv('data/raw_data/dv3_generations.csv')\n",
    "df['race']=df['race'].replace('a Latina', 'a Latine')\n",
    "df['race']=df['race'].replace('a Latino', 'a Latine')\n",
    "df['gender']=df['gender'].replace('F', 'W')\n",
    "storydf =df.loc[df['prompt'].str.contains('story')]\n",
    "storydf.to_csv('data/dv3_story_generations.csv')\n",
    "\n",
    "dislikedf = tempdf.loc[tempdf['prompt'].str.contains('you dislike')]\n",
    "likedf = tempdf.loc[tempdf['prompt'].str.contains('you like')]\n",
    "dislikedf.to_csv('data/dv3_dislike_generations.csv')\n",
    "likedf.to_csv('data/dv3_like_generations.csv')"
   ]
  },
  {
   "cell_type": "code",
   "execution_count": 9,
   "id": "creative-authority",
   "metadata": {},
   "outputs": [],
   "source": [
    "df=pd.read_csv('data/raw_data/dv2_generations.csv')\n",
    "df['race']=df['race'].replace('a Latina', 'a Latine')\n",
    "df['race']=df['race'].replace('a Latino', 'a Latine')\n",
    "df['gender']=df['gender'].replace('woman', 'W')\n",
    "df['gender']=df['gender'].replace('man', 'M')\n",
    "df = df.loc[~df['prompt'].str.contains('story')]\n",
    "df = df.loc[~df['prompt'].str.contains('you like')]\n",
    "df = df.loc[~df['prompt'].str.contains('you dislike')]\n",
    "df.to_csv('data/dv2_main_generations.csv')\n"
   ]
  },
  {
   "cell_type": "code",
   "execution_count": 42,
   "id": "industrial-prevention",
   "metadata": {},
   "outputs": [],
   "source": [
    "df=pd.read_csv('data/raw_data/dv2_generations.csv')\n",
    "df['race']=df['race'].replace('a Latina', 'a Latine')\n",
    "df['race']=df['race'].replace('a Latino', 'a Latine')\n",
    "df['gender']=df['gender'].replace('woman', 'W')\n",
    "df['gender']=df['gender'].replace('F', 'W')\n",
    "\n",
    "df['gender']=df['gender'].replace('man', 'M')\n",
    "storydf =df.loc[df['prompt'].str.contains('story')]\n",
    "storydf.to_csv('data/dv2_story_generations.csv')\n",
    "\n",
    "dislikedf = tempdf.loc[tempdf['prompt'].str.contains('you dislike')]\n",
    "likedf = tempdf.loc[tempdf['prompt'].str.contains('you like')]\n",
    "dislikedf.to_csv('data/dv2_dislike_generations.csv')\n",
    "likedf.to_csv('data/dv2_like_generations.csv')"
   ]
  },
  {
   "cell_type": "code",
   "execution_count": 45,
   "id": "immune-player",
   "metadata": {},
   "outputs": [],
   "source": [
    "df=pd.read_csv('data/raw_data/generated_personas_chatgpt_15.csv')\n",
    "df = df.drop(0)\n",
    "df['race']=df['race'].replace('a Latina', 'a Latine')\n",
    "df['race']=df['race'].replace('a Latino', 'a Latine')\n",
    "df['gender']=df['gender'].replace('F', 'W')\n",
    "df.to_csv('data/chat_main_generations.csv')\n"
   ]
  },
  {
   "cell_type": "code",
   "execution_count": 30,
   "id": "invalid-terrace",
   "metadata": {},
   "outputs": [],
   "source": [
    "df=pd.read_csv('data/raw_data/generated_personas_chatgpt_30.csv')\n",
    "df = df.drop(0)\n",
    "df['race']=df['race'].replace('a Latina', 'a Latine')\n",
    "df['race']=df['race'].replace('a Latino', 'a Latine')\n",
    "df['gender']=df['gender'].replace('F', 'W')\n",
    "df2=pd.read_csv('data/raw/generated_personas_chatgpt_14.csv')\n",
    "df2 = df2.drop(0)\n",
    "df2['race']=df2['race'].replace('a Latina', 'a Latine')\n",
    "df2['race']=df2['race'].replace('a Latino', 'a Latine')\n",
    "df2['gender']=df2['gender'].replace('F', 'W')\n",
    "\n",
    "\n",
    "df=pd.concat([df,df2])\n",
    "df.to_csv('data/chatgpt_generations.csv')\n",
    "\n"
   ]
  },
  {
   "cell_type": "code",
   "execution_count": 39,
   "id": "premier-grave",
   "metadata": {},
   "outputs": [],
   "source": [
    "df4=pd.read_csv('data/raw_data/generated_personas_gpt4_3.csv')\n",
    "df4 = df4.drop(0)\n",
    "df4['race']=df4['race'].replace('a Latina', 'a Latine')\n",
    "df4['race']=df4['race'].replace('a Latino', 'a Latine')\n",
    "df4['gender']=df4['gender'].replace('F', 'W')\n",
    "\n",
    "\n",
    "df2=pd.read_csv('data/raw_data/generated_personas_gpt4_12.csv')\n",
    "df2 = df2.drop(0)\n",
    "df2['race']=df2['race'].replace('a Latina', 'a Latine')\n",
    "df2['race']=df2['race'].replace('a Latino', 'a Latine')\n",
    "df2['gender']=df2['gender'].replace('F', 'W')\n",
    "\n",
    "\n",
    "df4=pd.concat([df4,df2])\n",
    "\n",
    "# df=pd.concat([df,df2])\n",
    "df4.to_csv('data/gpt4_main_generations.csv')\n"
   ]
  },
  {
   "cell_type": "code",
   "execution_count": 36,
   "id": "gothic-prompt",
   "metadata": {},
   "outputs": [],
   "source": [
    "df=pd.read_csv('data/generated_personas_chatgpt_json_15.csv')\n",
    "df = df.drop(0)\n",
    "df2['race']=df['race'].replace('a Latina', 'a Latine')\n",
    "df['race']=df['race'].replace('a Latino', 'a Latine')\n",
    "df['gender']=df['gender'].replace('F', 'W')\n",
    "\n",
    "\n",
    "df = df.loc[~df['prompt'].str.contains('story')]\n",
    "df = df.loc[~df['prompt'].str.contains('you like')]\n",
    "df = df.loc[~df['prompt'].str.contains('you dislike')]\n",
    "\n",
    "# df=pd.concat([df,df2])\n",
    "df.to_csv('data/chat_generations_json.csv')\n"
   ]
  },
  {
   "cell_type": "code",
   "execution_count": null,
   "id": "latest-cornell",
   "metadata": {},
   "outputs": [],
   "source": []
  }
 ],
 "metadata": {
  "kernelspec": {
   "display_name": "Python 3",
   "language": "python",
   "name": "python3"
  },
  "language_info": {
   "codemirror_mode": {
    "name": "ipython",
    "version": 3
   },
   "file_extension": ".py",
   "mimetype": "text/x-python",
   "name": "python",
   "nbconvert_exporter": "python",
   "pygments_lexer": "ipython3",
   "version": "3.9.15"
  }
 },
 "nbformat": 4,
 "nbformat_minor": 5
}
