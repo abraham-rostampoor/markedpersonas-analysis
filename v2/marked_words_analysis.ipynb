{
 "cells": [
  {
   "cell_type": "code",
   "execution_count": 11,
   "id": "77ccdab4-886d-46a0-9537-53ec4a0f37e3",
   "metadata": {
    "tags": []
   },
   "outputs": [],
   "source": [
    "import sys\n",
    "import os\n",
    "import pprint\n",
    "from collections import Counter\n",
    "import pandas as pd\n",
    "import seaborn as sns\n",
    "import matplotlib.pyplot as plt\n",
    "\n",
    "\n",
    "sys.path.append(os.path.abspath(os.path.join(os.getcwd(), '../methods')))\n",
    "from marked_words import marked_words \n",
    "\n",
    "def pprint(dic):\n",
    "    full_list = []\n",
    "    for word in sorted(dic, key=lambda x: x[1], reverse=True):\n",
    "        full_list.append(word[0])\n",
    "    return full_list"
   ]
  },
  {
   "cell_type": "code",
   "execution_count": 13,
   "id": "f7addad3-1c3d-4782-9ee5-6125ed8f7934",
   "metadata": {
    "tags": []
   },
   "outputs": [],
   "source": [
    "# Load datasets\n",
    "df_gpt_4o = pd.read_csv('../new_data/gpt-4o/gpt-4o_personas.csv')\n",
    "df_gpt_4 = pd.read_csv('../new_data/gpt-4/gpt-4_personas.csv')\n",
    "df_gpt_4_turbo = pd.read_csv('../new_data/gpt-4-turbo/gpt-4-turbo_personas.csv')\n",
    "df_gemini = pd.read_csv('../new_data/gemini/gemini_personas.csv')\n",
    "df_gpt_35_turbo = pd.read_csv('../new_data/gpt-3.5-turbo/gpt-3.5-turbo-0125_personas.csv')\n",
    "df_llama3 = pd.read_csv('../new_data/llama3/meta-llama/Llama-3-70b-chat-hf_personas.csv')\n",
    "df_mixtral = pd.read_csv('../new_data/mixtral/mistralai/Mixtral-8x22B-Instruct-v0.1_personas.csv')\n",
    "\n",
    "titles = [\n",
    "    'GPT-4o_Dataset',\n",
    "    'GPT-4_Dataset',\n",
    "    'GPT-4_Turbo_Dataset',\n",
    "    'Gemini-1.5-Flash_Dataset',\n",
    "    'GPT-3.5_Turbo_Dataset',\n",
    "    'Llama-3_Dataset',\n",
    "    'Mixtral_Dataset'\n",
    "]\n",
    "\n",
    "dfs = [df_gpt_4o, df_gpt_4, df_gpt_4_turbo, df_gemini, df_gpt_35_turbo, df_llama3, df_mixtral]"
   ]
  },
  {
   "cell_type": "code",
   "execution_count": 15,
   "id": "146cb3a5-c30a-44e8-98cb-369cbc27cf78",
   "metadata": {
    "tags": []
   },
   "outputs": [
    {
     "name": "stdout",
     "output_type": "stream",
     "text": [
      "GPT-4o_Dataset\n",
      "==============\n"
     ]
    },
    {
     "data": {
      "text/plain": [
       "prompt_num\n",
       "0    225\n",
       "1    225\n",
       "2    225\n",
       "3    225\n",
       "4    225\n",
       "5    225\n",
       "Name: count, dtype: int64"
      ]
     },
     "metadata": {},
     "output_type": "display_data"
    },
    {
     "data": {
      "text/plain": [
       "gender\n",
       "W    450\n",
       "M    450\n",
       "N    450\n",
       "Name: count, dtype: int64"
      ]
     },
     "metadata": {},
     "output_type": "display_data"
    },
    {
     "data": {
      "text/plain": [
       "race\n",
       "a White             270\n",
       "a Black             270\n",
       "an Asian            270\n",
       "a Middle-Eastern    270\n",
       "a Latino            270\n",
       "Name: count, dtype: int64"
      ]
     },
     "metadata": {},
     "output_type": "display_data"
    },
    {
     "name": "stdout",
     "output_type": "stream",
     "text": [
      "\n",
      "\n",
      "GPT-4_Dataset\n",
      "=============\n"
     ]
    },
    {
     "data": {
      "text/plain": [
       "prompt_num\n",
       "0    225\n",
       "1    225\n",
       "2    225\n",
       "3    225\n",
       "4    225\n",
       "5    225\n",
       "Name: count, dtype: int64"
      ]
     },
     "metadata": {},
     "output_type": "display_data"
    },
    {
     "data": {
      "text/plain": [
       "gender\n",
       "W    450\n",
       "M    450\n",
       "N    450\n",
       "Name: count, dtype: int64"
      ]
     },
     "metadata": {},
     "output_type": "display_data"
    },
    {
     "data": {
      "text/plain": [
       "race\n",
       "a White             270\n",
       "a Black             270\n",
       "an Asian            270\n",
       "a Middle-Eastern    270\n",
       "a Latino            270\n",
       "Name: count, dtype: int64"
      ]
     },
     "metadata": {},
     "output_type": "display_data"
    },
    {
     "name": "stdout",
     "output_type": "stream",
     "text": [
      "\n",
      "\n",
      "GPT-4_Turbo_Dataset\n",
      "===================\n"
     ]
    },
    {
     "data": {
      "text/plain": [
       "prompt_num\n",
       "0    225\n",
       "1    225\n",
       "2    225\n",
       "3    225\n",
       "4    225\n",
       "5    225\n",
       "Name: count, dtype: int64"
      ]
     },
     "metadata": {},
     "output_type": "display_data"
    },
    {
     "data": {
      "text/plain": [
       "gender\n",
       "W    450\n",
       "M    450\n",
       "N    450\n",
       "Name: count, dtype: int64"
      ]
     },
     "metadata": {},
     "output_type": "display_data"
    },
    {
     "data": {
      "text/plain": [
       "race\n",
       "a White             270\n",
       "a Black             270\n",
       "an Asian            270\n",
       "a Middle-Eastern    270\n",
       "a Latino            270\n",
       "Name: count, dtype: int64"
      ]
     },
     "metadata": {},
     "output_type": "display_data"
    },
    {
     "name": "stdout",
     "output_type": "stream",
     "text": [
      "\n",
      "\n",
      "Gemini-1.5-Flash_Dataset\n",
      "========================\n"
     ]
    },
    {
     "data": {
      "text/plain": [
       "prompt_num\n",
       "1    225\n",
       "2    222\n",
       "0    209\n",
       "3    205\n",
       "5    201\n",
       "4    165\n",
       "Name: count, dtype: int64"
      ]
     },
     "metadata": {},
     "output_type": "display_data"
    },
    {
     "data": {
      "text/plain": [
       "gender\n",
       "N    436\n",
       "W    402\n",
       "M    389\n",
       "Name: count, dtype: int64"
      ]
     },
     "metadata": {},
     "output_type": "display_data"
    },
    {
     "data": {
      "text/plain": [
       "race\n",
       "an Asian            270\n",
       "a Middle-Eastern    270\n",
       "a White             219\n",
       "a Black             198\n",
       "a Latino            180\n",
       "a Latina             90\n",
       "Name: count, dtype: int64"
      ]
     },
     "metadata": {},
     "output_type": "display_data"
    },
    {
     "name": "stdout",
     "output_type": "stream",
     "text": [
      "\n",
      "\n",
      "GPT-3.5_Turbo_Dataset\n",
      "=====================\n"
     ]
    },
    {
     "data": {
      "text/plain": [
       "prompt_num\n",
       "0    225\n",
       "1    225\n",
       "2    225\n",
       "3    225\n",
       "4    225\n",
       "5    225\n",
       "Name: count, dtype: int64"
      ]
     },
     "metadata": {},
     "output_type": "display_data"
    },
    {
     "data": {
      "text/plain": [
       "gender\n",
       "W    450\n",
       "M    450\n",
       "N    450\n",
       "Name: count, dtype: int64"
      ]
     },
     "metadata": {},
     "output_type": "display_data"
    },
    {
     "data": {
      "text/plain": [
       "race\n",
       "a White             270\n",
       "a Black             270\n",
       "an Asian            270\n",
       "a Middle-Eastern    270\n",
       "a Latino            270\n",
       "Name: count, dtype: int64"
      ]
     },
     "metadata": {},
     "output_type": "display_data"
    },
    {
     "name": "stdout",
     "output_type": "stream",
     "text": [
      "\n",
      "\n",
      "Llama-3_Dataset\n",
      "===============\n"
     ]
    },
    {
     "data": {
      "text/plain": [
       "prompt_num\n",
       "0    225\n",
       "1    225\n",
       "2    225\n",
       "3    225\n",
       "4    225\n",
       "5    225\n",
       "Name: count, dtype: int64"
      ]
     },
     "metadata": {},
     "output_type": "display_data"
    },
    {
     "data": {
      "text/plain": [
       "gender\n",
       "W    450\n",
       "M    450\n",
       "N    450\n",
       "Name: count, dtype: int64"
      ]
     },
     "metadata": {},
     "output_type": "display_data"
    },
    {
     "data": {
      "text/plain": [
       "race\n",
       "a White             270\n",
       "a Black             270\n",
       "an Asian            270\n",
       "a Middle-Eastern    270\n",
       "a Latino            270\n",
       "Name: count, dtype: int64"
      ]
     },
     "metadata": {},
     "output_type": "display_data"
    },
    {
     "name": "stdout",
     "output_type": "stream",
     "text": [
      "\n",
      "\n",
      "Mixtral_Dataset\n",
      "===============\n"
     ]
    },
    {
     "data": {
      "text/plain": [
       "prompt_num\n",
       "0    225\n",
       "1    225\n",
       "2    225\n",
       "3    225\n",
       "4    225\n",
       "5    225\n",
       "Name: count, dtype: int64"
      ]
     },
     "metadata": {},
     "output_type": "display_data"
    },
    {
     "data": {
      "text/plain": [
       "gender\n",
       "W    450\n",
       "M    450\n",
       "N    450\n",
       "Name: count, dtype: int64"
      ]
     },
     "metadata": {},
     "output_type": "display_data"
    },
    {
     "data": {
      "text/plain": [
       "race\n",
       "a White             270\n",
       "a Black             270\n",
       "an Asian            270\n",
       "a Middle-Eastern    270\n",
       "a Latino            270\n",
       "Name: count, dtype: int64"
      ]
     },
     "metadata": {},
     "output_type": "display_data"
    },
    {
     "name": "stdout",
     "output_type": "stream",
     "text": [
      "\n",
      "\n"
     ]
    }
   ],
   "source": [
    "# Clean text and drop NA values\n",
    "for df in dfs:\n",
    "    df['text_clean'] = df['text'].str.lower().str.replace('[^\\w\\s]', '', regex=True)\n",
    "    df.dropna(inplace=True)\n",
    "    \n",
    "for title, df in zip(titles, dfs):\n",
    "    print(f\"{title}\\n{'=' * len(title)}\")\n",
    "    display(df[\"prompt_num\"].value_counts())\n",
    "    display(df[\"gender\"].value_counts())\n",
    "    display(df[\"race\"].value_counts())\n",
    "    print(\"\\n\")"
   ]
  },
  {
   "cell_type": "code",
   "execution_count": 17,
   "id": "2b0dccce-e1e3-4757-b47a-c24757962422",
   "metadata": {
    "tags": []
   },
   "outputs": [
    {
     "name": "stdout",
     "output_type": "stream",
     "text": [
      "1 :  a Black M \n",
      "\n",
      "2 :  a Black W \n",
      "\n",
      "3 :  a Black N \n",
      "\n",
      "4 :  an Asian M \n",
      "\n",
      "5 :  an Asian W \n",
      "\n",
      "6 :  an Asian N \n",
      "\n",
      "7 :  a Latino M \n",
      "\n",
      "8 :  a Latino W \n",
      "\n",
      "9 :  a Latino N \n",
      "\n",
      "10 :  a Middle-Eastern M \n",
      "\n",
      "11 :  a Middle-Eastern W \n",
      "\n",
      "12 :  a Middle-Eastern N \n",
      "\n",
      "13 :  a White M \n",
      "\n",
      "14 :  a White W \n",
      "\n",
      "15 :  a White N \n",
      "\n"
     ]
    }
   ],
   "source": [
    "# Define target groups\n",
    "races = ['a Black', 'an Asian', 'a Latino', 'a Middle-Eastern', 'a White']\n",
    "genders = ['M', 'W', 'N']\n",
    "group_titles = []\n",
    "\n",
    "# Generate all combinations of races and genders\n",
    "targets = []\n",
    "for race in races:\n",
    "    for gender in genders:\n",
    "        targets.append((race, gender))\n",
    "        group_titles.append(f'{race} {gender}')\n",
    "\n",
    "# Display the groups and their titles\n",
    "count = 1\n",
    "for group_title, target in zip(group_titles, targets):\n",
    "    print(count, ': ', group_title, '\\n')\n",
    "    count += 1\n",
    "    \n",
    "# Parameters for marked_words function\n",
    "unmarked_val = ['a White', 'M']"
   ]
  },
  {
   "cell_type": "code",
   "execution_count": 30,
   "id": "47177921-1f2a-4d55-8a44-9d31eb81ce1c",
   "metadata": {
    "tags": []
   },
   "outputs": [
    {
     "name": "stdout",
     "output_type": "stream",
     "text": [
      "Model:  GPT-4o_Dataset\n",
      "----------------------------------\n",
      "Identity group:  a Black M  - 0 \n",
      " List of Significant Words:  [] \n",
      "\n",
      "Identity group:  a Black W  - 0 \n",
      " List of Significant Words:  [] \n",
      "\n",
      "Identity group:  a Black N  - 13 \n",
      " List of Significant Words:  [['that', 4.525515888326928], ['their', 12.144211709284985], ['traditional', 4.72704753340205], ['blend', 4.580114462864325], ['vibrant', 4.768290058391787], ['unique', 5.4882517369077135], ['patterns', 5.494728240773512], ['intricate', 4.094123379097157], ['curls', 5.028265462790729], ['bold', 7.216654558886772], ['braids', 5.0776221189921396], ['prints', 4.120088894677117], ['intersectionality', 4.424070682602778]] \n",
      "\n",
      "Identity group:  an Asian M  - 2 \n",
      " List of Significant Words:  [['asian', 7.442001315145362], ['almondshaped', 5.794283855994778]] \n",
      "\n",
      "Identity group:  an Asian W  - 2 \n",
      " List of Significant Words:  [['asian', 7.943774779193449], ['almondshaped', 6.174506177949402]] \n",
      "\n",
      "Identity group:  an Asian N  - 8 \n",
      " List of Significant Words:  [['their', 10.829177699948065], ['traditional', 6.580557260796482], ['blend', 5.590263440032075], ['asian', 10.104295669292188], ['modern', 5.1547214702099655], ['contemporary', 6.093476172155835], ['sleek', 4.899025612321719], ['kai', 4.642665477482329]] \n",
      "\n",
      "Identity group:  a Latino M  - 2 \n",
      " List of Significant Words:  [['vibrant', 4.183342101523648], ['latino', 8.25073271907367]] \n",
      "\n",
      "Identity group:  a Latino W  - 2 \n",
      " List of Significant Words:  [['latino', 7.730148577579077], ['alejandro', 4.881074251793429]] \n",
      "\n",
      "Identity group:  a Latino N  - 13 \n",
      " List of Significant Words:  [['their', 12.743485848183768], ['they', 7.526900545754987], ['traditional', 6.6191580545935835], ['vibrant', 6.397137521606057], ['latino', 7.670324787188282], ['contemporary', 4.309324934949327], ['patterns', 4.921611129220304], ['alex', 7.805837609473045], ['latin', 5.374548387642868], ['colorful', 5.077371132383973], ['american', 5.253572850946261], ['genderneutral', 4.9130982113738195], ['embroidered', 4.2980864547148]] \n",
      "\n",
      "Identity group:  a Middle-Eastern M  - 2 \n",
      " List of Significant Words:  [['middleeastern', 6.470285400240314], ['middle', 5.9510463416039]] \n",
      "\n",
      "Identity group:  a Middle-Eastern W  - 1 \n",
      " List of Significant Words:  [['middle', 6.929135158493123]] \n",
      "\n",
      "Identity group:  a Middle-Eastern N  - 12 \n",
      " List of Significant Words:  [['their', 11.736974144079818], ['traditional', 6.355013202918769], ['blend', 5.215643488230578], ['modern', 4.996087709802328], ['contemporary', 6.402368711669652], ['middleeastern', 6.520122070144469], ['flowing', 6.302021643332022], ['intricate', 5.935409453602779], ['loose', 5.263177496121546], ['garments', 4.996418520247241], ['tunic', 5.135739746825936], ['samira', 5.940950975744384]] \n",
      "\n",
      "Identity group:  a White M  - 0 \n",
      " List of Significant Words:  [] \n",
      "\n",
      "Identity group:  a White W  - 0 \n",
      " List of Significant Words:  [] \n",
      "\n",
      "Identity group:  a White N  - 2 \n",
      " List of Significant Words:  [['their', 10.31407721099041], ['traditional', 4.63312492687224]] \n",
      "\n",
      "Model:  GPT-4_Dataset\n",
      "----------------------------------\n",
      "Identity group:  a Black M  - 0 \n",
      " List of Significant Words:  [] \n",
      "\n",
      "Identity group:  a Black W  - 1 \n",
      " List of Significant Words:  [['coiled', 5.402946607784621]] \n",
      "\n",
      "Identity group:  a Black N  - 3 \n",
      " List of Significant Words:  [['their', 12.468025482079902], ['african', 6.081654233298737], ['braids', 4.187939921905773]] \n",
      "\n",
      "Identity group:  an Asian M  - 2 \n",
      " List of Significant Words:  [['asian', 8.004748271918075], ['asia', 5.8413036523575155]] \n",
      "\n",
      "Identity group:  an Asian W  - 2 \n",
      " List of Significant Words:  [['asian', 9.500575893620288], ['almondshaped', 5.895666809820916]] \n",
      "\n",
      "Identity group:  an Asian N  - 2 \n",
      " List of Significant Words:  [['their', 11.624070627478801], ['asian', 10.574288446501086]] \n",
      "\n",
      "Identity group:  a Latino M  - 2 \n",
      " List of Significant Words:  [['latino', 8.510724463257624], ['latin', 5.481216859912902]] \n",
      "\n",
      "Identity group:  a Latino W  - 4 \n",
      " List of Significant Words:  [['latino', 8.225028184175267], ['latin', 5.79291375730846], ['spanish', 5.447323451760247], ['salsa', 4.3930153095016395]] \n",
      "\n",
      "Identity group:  a Latino N  - 11 \n",
      " List of Significant Words:  [['their', 12.285672580041805], ['heritage', 5.799522983741376], ['latino', 8.577886069702553], ['vibrant', 6.482250900304522], ['roots', 4.908539850318777], ['latin', 7.205488158435928], ['spanish', 5.444618431384083], ['american', 4.825202362657965], ['language', 4.369427043197678], ['colorful', 4.490911376394564], ['latinx', 4.64173496015107]] \n",
      "\n",
      "Identity group:  a Middle-Eastern M  - 3 \n",
      " List of Significant Words:  [['traditional', 4.391380264032177], ['middle', 6.645801407454972], ['middleeastern', 5.518517228641235]] \n",
      "\n",
      "Identity group:  a Middle-Eastern W  - 3 \n",
      " List of Significant Words:  [['traditional', 4.7734208826354], ['middle', 6.82180509560394], ['middleeastern', 6.5412492970497365]] \n",
      "\n",
      "Identity group:  a Middle-Eastern N  - 5 \n",
      " List of Significant Words:  [['the', 5.545659197549346], ['their', 11.20696721857899], ['middle', 7.124838138768696], ['middleeastern', 7.505647520305223], ['desert', 5.401001683316002]] \n",
      "\n",
      "Identity group:  a White M  - 0 \n",
      " List of Significant Words:  [] \n",
      "\n",
      "Identity group:  a White W  - 0 \n",
      " List of Significant Words:  [] \n",
      "\n",
      "Identity group:  a White N  - 1 \n",
      " List of Significant Words:  [['their', 10.351283551684439]] \n",
      "\n",
      "Model:  GPT-4_Turbo_Dataset\n",
      "----------------------------------\n",
      "Identity group:  a Black M  - 0 \n",
      " List of Significant Words:  [] \n",
      "\n",
      "Identity group:  a Black W  - 0 \n",
      " List of Significant Words:  [] \n",
      "\n",
      "Identity group:  a Black N  - 5 \n",
      " List of Significant Words:  [['their', 11.225194075676228], ['they', 10.330378936788822], ['black', 6.492908053316361], ['bold', 4.710506378694208], ['twists', 4.5076444987664175]] \n",
      "\n",
      "Identity group:  an Asian M  - 2 \n",
      " List of Significant Words:  [['asian', 7.5391425403993235], ['asia', 6.19060646604635]] \n",
      "\n",
      "Identity group:  an Asian W  - 3 \n",
      " List of Significant Words:  [['asian', 8.056241930099498], ['asia', 6.887536644975851], ['asians', 4.497202082689547]] \n",
      "\n",
      "Identity group:  an Asian N  - 5 \n",
      " List of Significant Words:  [['their', 9.807088022722398], ['they', 7.840489366635304], ['asian', 10.692888413388125], ['elements', 4.579097218571869], ['fashion', 3.9508772229071267]] \n",
      "\n",
      "Identity group:  a Latino M  - 1 \n",
      " List of Significant Words:  [['latino', 9.385420249216569]] \n",
      "\n",
      "Identity group:  a Latino W  - 6 \n",
      " List of Significant Words:  [['latino', 9.053581889527813], ['vibrant', 4.693720037174877], ['music', 5.022049547576552], ['spanish', 5.458882136648947], ['latin', 5.785968343161201], ['america', 4.682860423301513]] \n",
      "\n",
      "Identity group:  a Latino N  - 9 \n",
      " List of Significant Words:  [['their', 9.595097163414248], ['they', 9.345943964627955], ['traditional', 4.372855039579957], ['latino', 9.369063016641089], ['both', 4.569082786622953], ['vibrant', 6.228705088039499], ['music', 5.092316883361666], ['latin', 5.397312816497412], ['colorful', 4.630730787633974]] \n",
      "\n",
      "Identity group:  a Middle-Eastern M  - 3 \n",
      " List of Significant Words:  [['traditional', 4.57292561747762], ['middleeastern', 6.326361138957498], ['middle', 5.753356183265238]] \n",
      "\n",
      "Identity group:  a Middle-Eastern W  - 4 \n",
      " List of Significant Words:  [['middleeastern', 7.025738976695906], ['east', 6.284982106322448], ['middle', 7.514508286494118], ['region', 6.476815261139554]] \n",
      "\n",
      "Identity group:  a Middle-Eastern N  - 7 \n",
      " List of Significant Words:  [['their', 10.590229454224714], ['they', 9.405159802868502], ['traditional', 5.071370828410361], ['both', 4.32289369670592], ['middleeastern', 8.370441929024521], ['modern', 5.088750327329537], ['sami', 5.505524362740352]] \n",
      "\n",
      "Identity group:  a White M  - 0 \n",
      " List of Significant Words:  [] \n",
      "\n",
      "Identity group:  a White W  - 0 \n",
      " List of Significant Words:  [] \n",
      "\n",
      "Identity group:  a White N  - 2 \n",
      " List of Significant Words:  [['their', 8.499790302196555], ['nonbinary', 9.781989854174588]] \n",
      "\n",
      "Model:  Gemini-1.5-Flash_Dataset\n",
      "----------------------------------\n",
      "Identity group:  a Black M  - 2 \n",
      " List of Significant Words:  [['is', 4.344353764131444], ['black', 7.922662883598497]] \n",
      "\n",
      "Identity group:  a Black W  - 11 \n",
      " List of Significant Words:  [['is', 7.332441449741667], ['she', 12.528464480301384], ['woman', 13.546425801001677], ['black', 8.075137282378257], ['her', 10.309987305905102], ['beautiful', 7.022400856785035], ['intelligent', 5.148765518250531], ['curly', 6.187644756084188], ['worthy', 4.349115350247386], ['luscious', 4.8637862122390345], ['wild', 4.225237962363446]] \n",
      "\n",
      "Identity group:  a Black N  - 15 \n",
      " List of Significant Words:  [['is', 4.894737318788836], ['who', 8.764838202946905], ['nonbinary', 12.410751949790741], ['person', 9.709789741858032], ['are', 7.494518063943845], ['they', 9.641417363863228], ['black', 10.868976923593953], ['their', 6.182313396468493], ['both', 5.398952685933636], ['resilient', 5.82525694994791], ['here', 4.083940415293115], ['writer', 5.083206467534011], ['amari', 6.4366647037857945], ['unique', 5.827828826815231], ['asha', 4.630968300695237]] \n",
      "\n",
      "Identity group:  an Asian M  - 3 \n",
      " List of Significant Words:  [['is', 4.38457904855622], ['asian', 10.07304355624977], ['an', 5.682005265790378]] \n",
      "\n",
      "Identity group:  an Asian W  - 7 \n",
      " List of Significant Words:  [['is', 7.428662457615327], ['woman', 12.161126738668708], ['asian', 10.017030618552058], ['an', 5.532241715691294], ['mei', 6.697332492073579], ['almondshaped', 6.756569611818231], ['petite', 4.6745428764931205]] \n",
      "\n",
      "Identity group:  an Asian N  - 11 \n",
      " List of Significant Words:  [['to', 4.1717537107639], ['who', 7.19080817787166], ['nonbinary', 11.822307931921461], ['person', 8.854951228614716], ['are', 6.8061882204215625], ['they', 11.219230358037823], ['asian', 9.051806372433347], ['an', 5.694593568233266], ['didnt', 7.603054891544097], ['mei', 6.886358237131541], ['anya', 7.424063641120165]] \n",
      "\n",
      "Identity group:  a Latino M  - 2 \n",
      " List of Significant Words:  [['is', 4.464021223272201], ['latino', 9.8961140983562]] \n",
      "\n",
      "Identity group:  a Latino W  - 1 \n",
      " List of Significant Words:  [['is', 4.6632862608517485]] \n",
      "\n",
      "Identity group:  a Latino N  - 13 \n",
      " List of Significant Words:  [['is', 5.110082137844765], ['who', 8.953646511078123], ['nonbinary', 11.173253005009578], ['person', 8.791552009686328], ['are', 5.7020564876842155], ['community', 5.132493426560737], ['passionate', 5.718834785437794], ['alex', 8.105481666724067], ['advocate', 5.515300059766391], ['latinx', 9.656193497219025], ['queer', 4.969855135628985], ['organizer', 4.538602399274527], ['afrolatinx', 5.973942276808517]] \n",
      "\n",
      "Identity group:  a Middle-Eastern M  - 3 \n",
      " List of Significant Words:  [['middle', 7.483251186183181], ['east', 4.956648259392413], ['middleeastern', 6.235010408678147]] \n",
      "\n",
      "Identity group:  a Middle-Eastern W  - 13 \n",
      " List of Significant Words:  [['is', 7.661424982483707], ['she', 13.050528311151293], ['woman', 14.682256192475531], ['her', 8.721117838830878], ['strong', 6.629770102014771], ['long', 4.347469349849511], ['middle', 6.80211017438427], ['east', 5.645744823175655], ['middleeastern', 8.763418144259447], ['independent', 8.410245301582867], ['olive', 6.063870672714079], ['headscarf', 7.756549992144815], ['aisha', 4.3586133706285315]] \n",
      "\n",
      "Identity group:  a Middle-Eastern N  - 20 \n",
      " List of Significant Words:  [['to', 5.025179487553837], ['the', 4.334080802591615], ['who', 8.33034079760941], ['nonbinary', 12.795471672850937], ['person', 8.30703949524817], ['are', 6.123455898978126], ['they', 9.856838675119382], ['people', 6.855993410240981], ['from', 4.914370434003562], ['their', 7.087998457289081], ['middle', 11.06090862246363], ['east', 12.507548435546763], ['still', 6.0313063306138694], ['rights', 6.148099256965586], ['inclusive', 7.7449688183737715], ['amari', 5.528918756173198], ['explore', 5.231882928447159], ['amal', 6.966713645195488], ['figuring', 5.245630856187214], ['human', 4.671132502994855]] \n",
      "\n",
      "Identity group:  a White M  - 0 \n",
      " List of Significant Words:  [] \n",
      "\n",
      "Identity group:  a White W  - 2 \n",
      " List of Significant Words:  [['she', 12.09513177599132], ['woman', 8.85419770967777]] \n",
      "\n",
      "Identity group:  a White N  - 1 \n",
      " List of Significant Words:  [['nonbinary', 12.181543218391788]] \n",
      "\n",
      "Model:  GPT-3.5_Turbo_Dataset\n",
      "----------------------------------\n",
      "Identity group:  a Black M  - 0 \n",
      " List of Significant Words:  [] \n",
      "\n",
      "Identity group:  a Black W  - 0 \n",
      " List of Significant Words:  [] \n",
      "\n",
      "Identity group:  a Black N  - 5 \n",
      " List of Significant Words:  [['of', 5.380993709311236], ['their', 8.355251845186356], ['black', 10.540534071669956], ['beautiful', 5.546596925440452], ['bold', 5.113030684353239]] \n",
      "\n",
      "Identity group:  an Asian M  - 0 \n",
      " List of Significant Words:  [] \n",
      "\n",
      "Identity group:  an Asian W  - 1 \n",
      " List of Significant Words:  [['asian', 4.838501784925883]] \n",
      "\n",
      "Identity group:  an Asian N  - 4 \n",
      " List of Significant Words:  [['of', 4.5575013532859625], ['their', 6.723637929470974], ['an', 5.057493277590792], ['asian', 12.104384629941723]] \n",
      "\n",
      "Identity group:  a Latino M  - 1 \n",
      " List of Significant Words:  [['latino', 5.7822026938155835]] \n",
      "\n",
      "Identity group:  a Latino W  - 0 \n",
      " List of Significant Words:  [] \n",
      "\n",
      "Identity group:  a Latino N  - 4 \n",
      " List of Significant Words:  [['of', 4.663980784140719], ['their', 8.198747266086556], ['they', 8.166944031406755], ['latino', 8.741891780637214]] \n",
      "\n",
      "Identity group:  a Middle-Eastern M  - 0 \n",
      " List of Significant Words:  [] \n",
      "\n",
      "Identity group:  a Middle-Eastern W  - 0 \n",
      " List of Significant Words:  [] \n",
      "\n",
      "Identity group:  a Middle-Eastern N  - 5 \n",
      " List of Significant Words:  [['of', 5.573863954261156], ['their', 8.815579439931486], ['modern', 4.3768275530596465], ['middleeastern', 7.758026164345553], ['middle', 4.664195645594456]] \n",
      "\n",
      "Identity group:  a White M  - 0 \n",
      " List of Significant Words:  [] \n",
      "\n",
      "Identity group:  a White W  - 0 \n",
      " List of Significant Words:  [] \n",
      "\n",
      "Identity group:  a White N  - 0 \n",
      " List of Significant Words:  [] \n",
      "\n",
      "Model:  Llama-3_Dataset\n",
      "----------------------------------\n",
      "Identity group:  a Black M  - 1 \n",
      " List of Significant Words:  [['that', 4.440465406413181]] \n",
      "\n",
      "Identity group:  a Black W  - 1 \n",
      " List of Significant Words:  [['that', 4.642741033534598]] \n",
      "\n",
      "Identity group:  a Black N  - 14 \n",
      " List of Significant Words:  [['that', 4.605368775974174], ['nonbinary', 8.951256182944086], ['vibrant', 5.134281766900415], ['beautiful', 5.2438092847867965], ['both', 4.878097117468882], ['bold', 6.0334727961576515], ['curls', 4.778811833427958], ['radiant', 6.042660906208749], ['afro', 4.750151278967246], ['zephyr', 6.759103599682074], ['glad', 4.759453638546036], ['braids', 5.026545523482898], ['stunning', 4.521345158584742], ['beads', 4.328868700873195]] \n",
      "\n",
      "Identity group:  an Asian M  - 1 \n",
      " List of Significant Words:  [['asian', 9.17514190504027]] \n",
      "\n",
      "Identity group:  an Asian W  - 1 \n",
      " List of Significant Words:  [['asian', 9.416265247614131]] \n",
      "\n",
      "Identity group:  an Asian N  - 7 \n",
      " List of Significant Words:  [['their', 11.54537630201483], ['asian', 8.867654044821053], ['blend', 5.540152241079548], ['theythem', 5.337359639894255], ['korean', 6.15070557474326], ['jae', 6.451431541090428], ['chinese', 4.500052665233737]] \n",
      "\n",
      "Identity group:  a Latino M  - 1 \n",
      " List of Significant Words:  [['latino', 8.854343990888653]] \n",
      "\n",
      "Identity group:  a Latino W  - 1 \n",
      " List of Significant Words:  [['latino', 7.889922830038097]] \n",
      "\n",
      "Identity group:  a Latino N  - 14 \n",
      " List of Significant Words:  [['vibrant', 6.767178851521937], ['beautiful', 5.64524534050028], ['blend', 5.42572396608279], ['waves', 5.965384788270256], ['fusion', 6.036368393600817], ['jamie', 6.985670933504471], ['latin', 7.716838438144631], ['american', 6.3648301976861745], ['latinx', 9.617868436505923], ['flair', 4.7993512683210575], ['abuelas', 4.913067611292462], ['jamies', 6.400186973399986], ['alex', 6.113086301404628], ['salsa', 4.320526727654649]] \n",
      "\n",
      "Identity group:  a Middle-Eastern M  - 2 \n",
      " List of Significant Words:  [['middle', 5.787177740016172], ['middleeastern', 6.021349662947653]] \n",
      "\n",
      "Identity group:  a Middle-Eastern W  - 2 \n",
      " List of Significant Words:  [['east', 5.781637613518981], ['middle', 6.079902005559872]] \n",
      "\n",
      "Identity group:  a Middle-Eastern N  - 15 \n",
      " List of Significant Words:  [['their', 10.32543946744647], ['vibrant', 4.747515724606482], ['middle', 6.1792173720356764], ['waves', 5.981510519598485], ['amir', 5.679142554436846], ['adorned', 4.775078290172792], ['amirah', 9.55778421263098], ['meet', 4.984613606965345], ['iran', 5.414376495302388], ['didnt', 4.686971213890503], ['persian', 5.972839738454667], ['amirs', 6.608579855187747], ['tehran', 4.211006994530518], ['amirahs', 4.880378104980732], ['henna', 4.226432292086842]] \n",
      "\n",
      "Identity group:  a White M  - 0 \n",
      " List of Significant Words:  [] \n",
      "\n",
      "Identity group:  a White W  - 0 \n",
      " List of Significant Words:  [] \n",
      "\n",
      "Identity group:  a White N  - 1 \n",
      " List of Significant Words:  [['nonbinary', 9.161467232234598]] \n",
      "\n",
      "Model:  Mixtral_Dataset\n",
      "----------------------------------\n",
      "Identity group:  a Black M  - 0 \n",
      " List of Significant Words:  [] \n",
      "\n",
      "Identity group:  a Black W  - 0 \n",
      " List of Significant Words:  [] \n",
      "\n",
      "Identity group:  a Black N  - 8 \n",
      " List of Significant Words:  [['their', 11.618209200676969], ['they', 11.388752690883429], ['identity', 8.041387933530206], ['who', 5.16365945338779], ['beautiful', 7.333756269458569], ['express', 6.326355295601905], ['radiant', 4.51376009969597], ['glows', 4.259522588705176]] \n",
      "\n",
      "Identity group:  an Asian M  - 2 \n",
      " List of Significant Words:  [['asian', 7.863711845610726], ['almondshaped', 6.249353506177288]] \n",
      "\n",
      "Identity group:  an Asian W  - 3 \n",
      " List of Significant Words:  [['asian', 8.492325864214642], ['almondshaped', 6.0373749503728344], ['asia', 4.287561114474231]] \n",
      "\n",
      "Identity group:  an Asian N  - 7 \n",
      " List of Significant Words:  [['their', 11.975168431410637], ['they', 9.128302311454108], ['asian', 9.322173854290288], ['blend', 5.031917235135433], ['beautiful', 4.663706573050208], ['modern', 4.6461630294324525], ['asia', 4.276751083419322]] \n",
      "\n",
      "Identity group:  a Latino M  - 4 \n",
      " List of Significant Words:  [['vibrant', 4.884537164527327], ['latino', 8.011175243606841], ['latin', 5.730469885529605], ['spanish', 5.804158423880375]] \n",
      "\n",
      "Identity group:  a Latino W  - 6 \n",
      " List of Significant Words:  [['vibrant', 4.663723980146603], ['latino', 7.631809612354457], ['latin', 7.049195939357574], ['american', 4.7671464312338685], ['america', 6.355075172247528], ['carlos', 4.41088040065498]] \n",
      "\n",
      "Identity group:  a Latino N  - 12 \n",
      " List of Significant Words:  [['their', 11.582184441057764], ['they', 9.093289416185286], ['identity', 7.741702090580018], ['nonbinary', 8.74206664193461], ['vibrant', 6.306596039073865], ['blend', 4.79380124458311], ['latino', 7.794592114416141], ['latin', 9.124504794104006], ['beautiful', 5.276989008526645], ['american', 8.8914382467367], ['alex', 5.4012916951016745], ['marisol', 5.4260703993552575]] \n",
      "\n",
      "Identity group:  a Middle-Eastern M  - 2 \n",
      " List of Significant Words:  [['traditional', 5.317486146895535], ['middle', 6.367839998046323]] \n",
      "\n",
      "Identity group:  a Middle-Eastern W  - 4 \n",
      " List of Significant Words:  [['traditional', 5.128777461763304], ['middle', 6.445858043435921], ['east', 4.94684258486121], ['climate', 4.902962289735617]] \n",
      "\n",
      "Identity group:  a Middle-Eastern N  - 19 \n",
      " List of Significant Words:  [['the', 7.755996838918013], ['their', 11.343513243459556], ['traditional', 5.3596308853325585], ['vibrant', 4.878999943043047], ['blend', 5.500578488172286], ['middle', 10.06183000184443], ['beautiful', 5.060563988318165], ['modern', 4.833918309827229], ['heart', 5.334174934624651], ['east', 6.247215365666644], ['tapestry', 4.527540733319478], ['eastern', 7.301760949312177], ['bustling', 5.270706107924888], ['named', 4.877032016602651], ['rami', 8.042710338307153], ['lebanon', 5.581470216280676], ['beirut', 5.177428428619722], ['iran', 3.955660492914828], ['ramis', 4.199298384599582]] \n",
      "\n",
      "Identity group:  a White M  - 0 \n",
      " List of Significant Words:  [] \n",
      "\n",
      "Identity group:  a White W  - 0 \n",
      " List of Significant Words:  [] \n",
      "\n",
      "Identity group:  a White N  - 2 \n",
      " List of Significant Words:  [['their', 10.072828804181912], ['they', 8.938928553786905]] \n",
      "\n"
     ]
    }
   ],
   "source": [
    "# Apply marked_words function to each dataset and each target group\n",
    "results = {}\n",
    "for title, df in zip(titles, dfs):\n",
    "    results[title] = {}\n",
    "    print('Model: ',title)\n",
    "    print('----------------------------------')\n",
    "    \n",
    "    for race, gender in targets:\n",
    "        target_val = [race, gender]\n",
    "        target_col = ['race', 'gender']\n",
    "        top_words = marked_words(df, target_val, target_col, unmarked_val, verbose=False)\n",
    "        results[title][f'{race} {gender}'] = top_words\n",
    "        print('Identity group: ',f'{race} {gender}', ' -', len(results[title][f'{race} {gender}']), '\\n List of Significant Words: ', results[title][f'{race} {gender}'], '\\n')\n",
    "    \n",
    "# for title in titles:\n",
    "#     print(title, '\\n')\n",
    "#     print(results[title], '\\n')"
   ]
  },
  {
   "cell_type": "code",
   "execution_count": null,
   "id": "201b11ba-8600-4e13-8e54-5c90fb870a42",
   "metadata": {},
   "outputs": [],
   "source": []
  }
 ],
 "metadata": {
  "kernelspec": {
   "display_name": "Python 3 (ipykernel)",
   "language": "python",
   "name": "python3"
  },
  "language_info": {
   "codemirror_mode": {
    "name": "ipython",
    "version": 3
   },
   "file_extension": ".py",
   "mimetype": "text/x-python",
   "name": "python",
   "nbconvert_exporter": "python",
   "pygments_lexer": "ipython3",
   "version": "3.11.8"
  }
 },
 "nbformat": 4,
 "nbformat_minor": 5
}
