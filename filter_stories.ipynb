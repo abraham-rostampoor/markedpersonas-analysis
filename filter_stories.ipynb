{
 "cells": [
  {
   "cell_type": "code",
   "execution_count": 2,
   "id": "cordless-given",
   "metadata": {},
   "outputs": [],
   "source": [
    "import pandas as pd"
   ]
  },
  {
   "cell_type": "code",
   "execution_count": 6,
   "id": "baking-bahrain",
   "metadata": {},
   "outputs": [],
   "source": [
    "df=pd.read_csv('data/dv3_generations.csv')\n",
    "df['race']=df['race'].replace('a Latina', 'a Latine')\n",
    "df['race']=df['race'].replace('a Latino', 'a Latine')\n",
    "df['gender']=df['gender'].replace('woman', 'W')\n",
    "df['gender']=df['gender'].replace('F', 'W')\n",
    "\n",
    "df['gender']=df['gender'].replace('man', 'M')\n",
    "\n",
    "\n",
    "df = df.loc[~df['prompt'].str.contains('story')]\n",
    "df = df.loc[~df['prompt'].str.contains('you like')]\n",
    "df = df.loc[~df['prompt'].str.contains('you dislike')]\n",
    "\n",
    "df.to_csv('data/dv3_main_generations.csv')\n"
   ]
  },
  {
   "cell_type": "code",
   "execution_count": 7,
   "id": "painful-stream",
   "metadata": {},
   "outputs": [],
   "source": [
    "df=pd.read_csv('data/dv3_generations.csv')\n",
    "df['race']=df['race'].replace('a Latina', 'a Latine')\n",
    "df['race']=df['race'].replace('a Latino', 'a Latine')\n",
    "df['gender']=df['gender'].replace('woman', 'W')\n",
    "df['gender']=df['gender'].replace('F', 'W')\n",
    "\n",
    "df['gender']=df['gender'].replace('man', 'M')\n",
    "storydf =df.loc[df['prompt'].str.contains('story')]\n",
    "storydf.to_csv('data/dv3_story_generations.csv')\n",
    "\n",
    "dislikedf = tempdf.loc[tempdf['prompt'].str.contains('you dislike')]\n",
    "likedf = tempdf.loc[~tempdf['prompt'].str.contains('you like')]\n",
    "dislikedf.to_csv('data/dv3_dislike_generations.csv')\n",
    "likedf.to_csv('data/dv3_like_generations.csv')"
   ]
  },
  {
   "cell_type": "code",
   "execution_count": 9,
   "id": "creative-authority",
   "metadata": {},
   "outputs": [],
   "source": [
    "df=pd.read_csv('data/dv2_generations.csv')\n",
    "df['race']=df['race'].replace('a Latina', 'a Latine')\n",
    "df['race']=df['race'].replace('a Latino', 'a Latine')\n",
    "df['gender']=df['gender'].replace('woman', 'W')\n",
    "df['gender']=df['gender'].replace('F', 'W')\n",
    "\n",
    "df['gender']=df['gender'].replace('man', 'M')\n",
    "\n",
    "\n",
    "df = df.loc[~df['prompt'].str.contains('story')]\n",
    "df = df.loc[~df['prompt'].str.contains('you like')]\n",
    "df = df.loc[~df['prompt'].str.contains('you dislike')]\n",
    "df.to_csv('data/dv2_main_generations.csv')\n"
   ]
  },
  {
   "cell_type": "code",
   "execution_count": 10,
   "id": "challenging-cedar",
   "metadata": {},
   "outputs": [],
   "source": [
    "df=pd.read_csv('data/dv2_generations.csv')\n",
    "df['race']=df['race'].replace('a Latina', 'a Latine')\n",
    "df['race']=df['race'].replace('a Latino', 'a Latine')\n",
    "df['gender']=df['gender'].replace('woman', 'W')\n",
    "df['gender']=df['gender'].replace('F', 'W')\n",
    "\n",
    "df['gender']=df['gender'].replace('man', 'M')\n",
    "storydf =df.loc[df['prompt'].str.contains('story')]\n",
    "storydf.to_csv('data/dv2_story_generations.csv')\n",
    "\n",
    "dislikedf = tempdf.loc[tempdf['prompt'].str.contains('you dislike')]\n",
    "likedf = tempdf.loc[~tempdf['prompt'].str.contains('you like')]\n",
    "dislikedf.to_csv('data/dv2_dislike_generations.csv')\n",
    "likedf.to_csv('data/dv2_like_generations.csv')"
   ]
  },
  {
   "cell_type": "code",
   "execution_count": null,
   "id": "inside-amplifier",
   "metadata": {},
   "outputs": [],
   "source": []
  }
 ],
 "metadata": {
  "kernelspec": {
   "display_name": "Python 3",
   "language": "python",
   "name": "python3"
  },
  "language_info": {
   "codemirror_mode": {
    "name": "ipython",
    "version": 3
   },
   "file_extension": ".py",
   "mimetype": "text/x-python",
   "name": "python",
   "nbconvert_exporter": "python",
   "pygments_lexer": "ipython3",
   "version": "3.9.15"
  }
 },
 "nbformat": 4,
 "nbformat_minor": 5
}
