{
 "cells": [
  {
   "cell_type": "code",
   "execution_count": 2,
   "id": "cordless-given",
   "metadata": {},
   "outputs": [],
   "source": [
    "import pandas as pd"
   ]
  },
  {
   "cell_type": "code",
   "execution_count": 3,
   "id": "baking-bahrain",
   "metadata": {},
   "outputs": [],
   "source": [
    "df=pd.read_csv('data/dv3_generations.csv')\n",
    "df['race']=df['race'].replace('a Latina', 'a Latine')\n",
    "df['race']=df['race'].replace('a Latino', 'a Latine')\n",
    "df['gender']=df['gender'].replace('woman', 'W')\n",
    "df['gender']=df['gender'].replace('F', 'W')\n",
    "\n",
    "df['gender']=df['gender'].replace('man', 'M')\n",
    "\n",
    "\n",
    "df = df.loc[~df['prompt'].str.contains('story')]\n",
    "df = df.loc[~df['prompt'].str.contains('like')]\n",
    "df.to_csv('data/dv3_main_generations.csv')\n"
   ]
  },
  {
   "cell_type": "code",
   "execution_count": 4,
   "id": "painful-stream",
   "metadata": {},
   "outputs": [],
   "source": [
    "df=pd.read_csv('data/dv3_generations.csv')\n",
    "df['race']=df['race'].replace('a Latina', 'a Latine')\n",
    "df['race']=df['race'].replace('a Latino', 'a Latine')\n",
    "df['gender']=df['gender'].replace('woman', 'W')\n",
    "df['gender']=df['gender'].replace('F', 'W')\n",
    "\n",
    "df['gender']=df['gender'].replace('man', 'M')\n",
    "storydf =df.loc[df['prompt'].str.contains('story')]\n",
    "storydf.to_csv('data/dv3_story_generations.csv')\n",
    "\n",
    "tempdf = df.loc[df['prompt'].str.contains('like')]\n",
    "dislikedf = tempdf.loc[tempdf['prompt'].str.contains('dislike')]\n",
    "likedf = tempdf.loc[~tempdf['prompt'].str.contains('dislike')]\n",
    "dislikedf.to_csv('data/dv3_dislike_generations.csv')\n",
    "likedf.to_csv('data/dv3_like_generations.csv')"
   ]
  },
  {
   "cell_type": "code",
   "execution_count": 5,
   "id": "creative-authority",
   "metadata": {},
   "outputs": [],
   "source": [
    "df=pd.read_csv('data/dv2_generations.csv')\n",
    "df['race']=df['race'].replace('a Latina', 'a Latine')\n",
    "df['race']=df['race'].replace('a Latino', 'a Latine')\n",
    "df['gender']=df['gender'].replace('woman', 'W')\n",
    "df['gender']=df['gender'].replace('F', 'W')\n",
    "\n",
    "df['gender']=df['gender'].replace('man', 'M')\n",
    "\n",
    "\n",
    "df = df.loc[~df['prompt'].str.contains('story')]\n",
    "df = df.loc[~df['prompt'].str.contains('like')]\n",
    "df.to_csv('data/dv2_main_generations.csv')\n"
   ]
  }
 ],
 "metadata": {
  "kernelspec": {
   "display_name": "Python 3",
   "language": "python",
   "name": "python3"
  },
  "language_info": {
   "codemirror_mode": {
    "name": "ipython",
    "version": 3
   },
   "file_extension": ".py",
   "mimetype": "text/x-python",
   "name": "python",
   "nbconvert_exporter": "python",
   "pygments_lexer": "ipython3",
   "version": "3.9.15"
  }
 },
 "nbformat": 4,
 "nbformat_minor": 5
}
